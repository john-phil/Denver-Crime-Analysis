{
 "cells": [
  {
   "cell_type": "code",
   "execution_count": 1,
   "id": "40116199",
   "metadata": {},
   "outputs": [],
   "source": [
    "import pandas as pd\n",
    "import numpy as np\n",
    "import seaborn as sns\n",
    "import matplotlib\n",
    "import matplotlib.pyplot as plt\n",
    "import os\n",
    "import sklearn\n",
    "from sklearn.cluster import KMeans # Here is where you import the k-means algorithm from scikit-learn.\n",
    "import pylab as pl # PyLab is a convenience module that bulk imports matplotlib."
   ]
  },
  {
   "cell_type": "code",
   "execution_count": 2,
   "id": "b95b56d2",
   "metadata": {},
   "outputs": [],
   "source": [
    "path= r'C:\\Users\\jphil\\OneDrive\\Documents\\CareerFoundry Data Analytics\\Data Immersion\\Achievement 6- Denver Crime'"
   ]
  },
  {
   "cell_type": "code",
   "execution_count": 3,
   "id": "3549f932",
   "metadata": {},
   "outputs": [],
   "source": [
    "crimes=pd.read_csv(os.path.join(path, 'Data', 'Prepared Data', 'crimes_derived.csv'), index_col=False)"
   ]
  },
  {
   "cell_type": "code",
   "execution_count": 4,
   "id": "808583f2",
   "metadata": {},
   "outputs": [],
   "source": [
    "#making a new df with more columns that could potentially explain more variance.\n",
    "df1= crimes[['danger_score', 'Non Family Household', 'Vacant Housing Units', 'Age 20 to 29', 'Household Income Less 10000', 'victim_count', 'Total Population All', 'MALE', 'FEMALE', 'Age 10 to 19', 'Age 30 to 39', 'Not Enrolled', 'Total Commuters', 'Less Than HS Diploma', 'Total Housing Units', 'Median Household Income', 'Per Capita Income', 'Foreign Born FB', 'Percent Living in Poverty', 'Median Home Value', 'Married Couple Family','Commute Over 60 Minutes', 'Spanish', 'Grades 9 to 12', 'Median Age All']]"
   ]
  },
  {
   "cell_type": "code",
   "execution_count": 5,
   "id": "65f32a91",
   "metadata": {},
   "outputs": [],
   "source": [
    "# Select only the numerical columns\n",
    "df_numerical = df1.select_dtypes(include=['number']).copy()"
   ]
  },
  {
   "cell_type": "code",
   "execution_count": 6,
   "id": "1633dee1",
   "metadata": {},
   "outputs": [],
   "source": [
    "from sklearn.impute import SimpleImputer\n",
    "\n",
    "imputer = SimpleImputer(strategy='median')\n",
    "df_imputed = pd.DataFrame(imputer.fit_transform(df_numerical), columns=df_numerical.columns)"
   ]
  },
  {
   "cell_type": "code",
   "execution_count": 7,
   "id": "ff95c355",
   "metadata": {},
   "outputs": [],
   "source": [
    "# Create the k-means object.\n",
    "\n",
    "kmeans = KMeans(n_clusters = 5) "
   ]
  },
  {
   "cell_type": "code",
   "execution_count": 8,
   "id": "46208a0d",
   "metadata": {},
   "outputs": [
    {
     "name": "stderr",
     "output_type": "stream",
     "text": [
      "C:\\Users\\jphil\\anaconda3\\Lib\\site-packages\\sklearn\\cluster\\_kmeans.py:870: FutureWarning: The default value of `n_init` will change from 10 to 'auto' in 1.4. Set the value of `n_init` explicitly to suppress the warning\n",
      "  warnings.warn(\n"
     ]
    }
   ],
   "source": [
    "df_imputed['clusters'] = kmeans.fit_predict(df_imputed)"
   ]
  },
  {
   "cell_type": "code",
   "execution_count": 9,
   "id": "8b2a94bc",
   "metadata": {},
   "outputs": [
    {
     "data": {
      "text/plain": [
       "clusters\n",
       "0    100089\n",
       "2     99469\n",
       "3     87514\n",
       "1     72827\n",
       "4     10592\n",
       "Name: count, dtype: int64"
      ]
     },
     "execution_count": 9,
     "metadata": {},
     "output_type": "execute_result"
    }
   ],
   "source": [
    "df_imputed['clusters'].value_counts()"
   ]
  },
  {
   "cell_type": "code",
   "execution_count": 10,
   "id": "f1b14c0d",
   "metadata": {},
   "outputs": [],
   "source": [
    "#calculating descriptive statistics\n",
    "stats=df_imputed.groupby('clusters').agg({'Median Home Value':['mean', 'median'], \n",
    "                         'Median Household Income':['mean', 'median'], \n",
    "                         'Per Capita Income':['mean', 'median'],\n",
    "                          'danger_score':['mean', 'median']})"
   ]
  },
  {
   "cell_type": "code",
   "execution_count": 11,
   "id": "5075cb4b",
   "metadata": {},
   "outputs": [
    {
     "data": {
      "text/html": [
       "<div>\n",
       "<style scoped>\n",
       "    .dataframe tbody tr th:only-of-type {\n",
       "        vertical-align: middle;\n",
       "    }\n",
       "\n",
       "    .dataframe tbody tr th {\n",
       "        vertical-align: top;\n",
       "    }\n",
       "\n",
       "    .dataframe thead tr th {\n",
       "        text-align: left;\n",
       "    }\n",
       "\n",
       "    .dataframe thead tr:last-of-type th {\n",
       "        text-align: right;\n",
       "    }\n",
       "</style>\n",
       "<table border=\"1\" class=\"dataframe\">\n",
       "  <thead>\n",
       "    <tr>\n",
       "      <th></th>\n",
       "      <th colspan=\"2\" halign=\"left\">Median Home Value</th>\n",
       "      <th colspan=\"2\" halign=\"left\">Median Household Income</th>\n",
       "      <th colspan=\"2\" halign=\"left\">Per Capita Income</th>\n",
       "      <th colspan=\"2\" halign=\"left\">danger_score</th>\n",
       "    </tr>\n",
       "    <tr>\n",
       "      <th></th>\n",
       "      <th>mean</th>\n",
       "      <th>median</th>\n",
       "      <th>mean</th>\n",
       "      <th>median</th>\n",
       "      <th>mean</th>\n",
       "      <th>median</th>\n",
       "      <th>mean</th>\n",
       "      <th>median</th>\n",
       "    </tr>\n",
       "    <tr>\n",
       "      <th>clusters</th>\n",
       "      <th></th>\n",
       "      <th></th>\n",
       "      <th></th>\n",
       "      <th></th>\n",
       "      <th></th>\n",
       "      <th></th>\n",
       "      <th></th>\n",
       "      <th></th>\n",
       "    </tr>\n",
       "  </thead>\n",
       "  <tbody>\n",
       "    <tr>\n",
       "      <th>0</th>\n",
       "      <td>409146.041903</td>\n",
       "      <td>419225.0</td>\n",
       "      <td>66914.582881</td>\n",
       "      <td>66364.0</td>\n",
       "      <td>45676.643767</td>\n",
       "      <td>42952.0</td>\n",
       "      <td>0.290409</td>\n",
       "      <td>0.289685</td>\n",
       "    </tr>\n",
       "    <tr>\n",
       "      <th>1</th>\n",
       "      <td>639550.468535</td>\n",
       "      <td>635650.0</td>\n",
       "      <td>105358.083252</td>\n",
       "      <td>99847.0</td>\n",
       "      <td>69584.335700</td>\n",
       "      <td>63214.0</td>\n",
       "      <td>0.392107</td>\n",
       "      <td>0.428764</td>\n",
       "    </tr>\n",
       "    <tr>\n",
       "      <th>2</th>\n",
       "      <td>290215.132715</td>\n",
       "      <td>294600.0</td>\n",
       "      <td>59747.007007</td>\n",
       "      <td>56981.0</td>\n",
       "      <td>25709.665303</td>\n",
       "      <td>28064.0</td>\n",
       "      <td>0.315378</td>\n",
       "      <td>0.291713</td>\n",
       "    </tr>\n",
       "    <tr>\n",
       "      <th>3</th>\n",
       "      <td>530975.979352</td>\n",
       "      <td>530933.0</td>\n",
       "      <td>84794.130482</td>\n",
       "      <td>85513.0</td>\n",
       "      <td>56614.210321</td>\n",
       "      <td>55240.0</td>\n",
       "      <td>0.456175</td>\n",
       "      <td>0.348689</td>\n",
       "    </tr>\n",
       "    <tr>\n",
       "      <th>4</th>\n",
       "      <td>858459.884819</td>\n",
       "      <td>818900.0</td>\n",
       "      <td>146746.470733</td>\n",
       "      <td>129139.0</td>\n",
       "      <td>101818.932591</td>\n",
       "      <td>98101.0</td>\n",
       "      <td>0.103246</td>\n",
       "      <td>0.081084</td>\n",
       "    </tr>\n",
       "  </tbody>\n",
       "</table>\n",
       "</div>"
      ],
      "text/plain": [
       "         Median Home Value           Median Household Income            \\\n",
       "                      mean    median                    mean    median   \n",
       "clusters                                                                 \n",
       "0            409146.041903  419225.0            66914.582881   66364.0   \n",
       "1            639550.468535  635650.0           105358.083252   99847.0   \n",
       "2            290215.132715  294600.0            59747.007007   56981.0   \n",
       "3            530975.979352  530933.0            84794.130482   85513.0   \n",
       "4            858459.884819  818900.0           146746.470733  129139.0   \n",
       "\n",
       "         Per Capita Income          danger_score            \n",
       "                      mean   median         mean    median  \n",
       "clusters                                                    \n",
       "0             45676.643767  42952.0     0.290409  0.289685  \n",
       "1             69584.335700  63214.0     0.392107  0.428764  \n",
       "2             25709.665303  28064.0     0.315378  0.291713  \n",
       "3             56614.210321  55240.0     0.456175  0.348689  \n",
       "4            101818.932591  98101.0     0.103246  0.081084  "
      ]
     },
     "execution_count": 11,
     "metadata": {},
     "output_type": "execute_result"
    }
   ],
   "source": [
    "stats"
   ]
  },
  {
   "cell_type": "code",
   "execution_count": 12,
   "id": "6be61f82",
   "metadata": {},
   "outputs": [],
   "source": [
    "stats.to_clipboard()"
   ]
  },
  {
   "cell_type": "code",
   "execution_count": 13,
   "id": "6f03761c",
   "metadata": {},
   "outputs": [],
   "source": [
    "df_imputed.to_csv(os.path.join(path, 'Data', 'Prepared Data', 'crimes_cluster.csv'))"
   ]
  }
 ],
 "metadata": {
  "kernelspec": {
   "display_name": "Python 3 (ipykernel)",
   "language": "python",
   "name": "python3"
  },
  "language_info": {
   "codemirror_mode": {
    "name": "ipython",
    "version": 3
   },
   "file_extension": ".py",
   "mimetype": "text/x-python",
   "name": "python",
   "nbconvert_exporter": "python",
   "pygments_lexer": "ipython3",
   "version": "3.11.7"
  }
 },
 "nbformat": 4,
 "nbformat_minor": 5
}
